{
 "cells": [
  {
   "cell_type": "markdown",
   "metadata": {
    "slideshow": {
     "slide_type": "slide"
    }
   },
   "source": [
    "# The discriminant"
   ]
  },
  {
   "cell_type": "markdown",
   "metadata": {
    "slideshow": {
     "slide_type": "-"
    }
   },
   "source": [
    "Use the quadratic formula to solve these equations\n",
    "\n",
    "* $9x^2+24x+4=0$\n",
    "* $6x^2-x-1=0$\n",
    "* $2x^2+4x+3=0$"
   ]
  },
  {
   "cell_type": "markdown",
   "metadata": {
    "slideshow": {
     "slide_type": "fragment"
    }
   },
   "source": [
    "Looking at your work, at what point do you know how many solutions the equation will have?"
   ]
  },
  {
   "cell_type": "markdown",
   "metadata": {
    "slideshow": {
     "slide_type": "subslide"
    }
   },
   "source": [
    "$$x=\\dfrac{-b\\pm\\sqrt{b^2-4ac}}{2a}$$"
   ]
  },
  {
   "cell_type": "markdown",
   "metadata": {
    "slideshow": {
     "slide_type": "subslide"
    }
   },
   "source": [
    "Without writing anything, which of these equations will have two solutions, or one, or none?"
   ]
  },
  {
   "cell_type": "markdown",
   "metadata": {
    "slideshow": {
     "slide_type": "-"
    }
   },
   "source": [
    "* $2x^2+5x-3=0$\n",
    "* $3x^2-4x+3=0$\n",
    "* $2x^2+4x+3=0$"
   ]
  },
  {
   "cell_type": "markdown",
   "metadata": {
    "slideshow": {
     "slide_type": "subslide"
    }
   },
   "source": [
    "Without writing anything, which of these graphs have two, one, or no $x$-intercepts?"
   ]
  },
  {
   "cell_type": "markdown",
   "metadata": {
    "slideshow": {
     "slide_type": "-"
    }
   },
   "source": [
    "* $y=2x^2+5x+5$\n",
    "* $y=x^2-10x+25$\n",
    "* $y=2x^2-x-3$"
   ]
  },
  {
   "cell_type": "markdown",
   "metadata": {
    "slideshow": {
     "slide_type": "slide"
    }
   },
   "source": [
    "So, given $ax^2+bx+c=0$, the *discriminant* $b^2-4ac$, discriminates between equations with two, one, or no real solutions.\n",
    "\n",
    "$\\begin{cases}\n",
    "b^2-4ac > 0 \\implies \\text{two solutions}\\\\\n",
    "b^2-4ac = 0 \\implies \\text{one solution}\\\\\n",
    "b^2-4ac < 0 \\implies \\text{no real solutions}\n",
    "\\end{cases}$"
   ]
  }
 ],
 "metadata": {
  "celltoolbar": "Slideshow",
  "kernelspec": {
   "display_name": "Python 3",
   "language": "python",
   "name": "python3"
  },
  "language_info": {
   "codemirror_mode": {
    "name": "ipython",
    "version": 3
   },
   "file_extension": ".py",
   "mimetype": "text/x-python",
   "name": "python",
   "nbconvert_exporter": "python",
   "pygments_lexer": "ipython3",
   "version": "3.6.8"
  }
 },
 "nbformat": 4,
 "nbformat_minor": 2
}
