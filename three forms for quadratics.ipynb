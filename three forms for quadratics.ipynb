{
 "cells": [
  {
   "cell_type": "markdown",
   "metadata": {
    "slideshow": {
     "slide_type": "slide"
    }
   },
   "source": [
    "Which of these are quadratic expressions? How do you know?\n",
    "\n",
    "1. $x^2+\\dfrac{1}{x}$\n",
    "1. $x^2+x^3$\n",
    "1. $1-m-3m^2$\n",
    "1. $(x-1)(x+1)(x-2)(x+2)$\n",
    "1. $z^2+3z+\\sin(30^\\circ)$\n",
    "1. $x^2+5x-\\sin(x)$"
   ]
  },
  {
   "cell_type": "markdown",
   "metadata": {
    "slideshow": {
     "slide_type": "slide"
    }
   },
   "source": [
    "## Task 0\n",
    "\n",
    "[Factorisable quadratics](https://undergroundmathematics.org/quadratics/factorisable-quads/download/problem.pdf)"
   ]
  },
  {
   "cell_type": "markdown",
   "metadata": {
    "slideshow": {
     "slide_type": "slide"
    }
   },
   "source": [
    "# The three forms for a quadratic function"
   ]
  },
  {
   "cell_type": "markdown",
   "metadata": {
    "slideshow": {
     "slide_type": "-"
    }
   },
   "source": [
    "## The case when the coefficient of $x^2$ is $1$\n",
    "\n",
    "We'll worry about the harder case later but for now"
   ]
  },
  {
   "cell_type": "markdown",
   "metadata": {
    "slideshow": {
     "slide_type": "-"
    }
   },
   "source": [
    "$$\\begin{aligned}\n",
    "y&=x^2+bx+c && \\text{expanded form}\\\\\n",
    "&\\equiv(x+m)(x+n) && \\text{factorised form}\\\\\n",
    "&\\equiv(x+p)^2+q && \\text{completed the square}\n",
    "\\end{aligned}$$"
   ]
  },
  {
   "cell_type": "markdown",
   "metadata": {
    "slideshow": {
     "slide_type": "subslide"
    }
   },
   "source": [
    "### Factorised form\n",
    "\n",
    "$$\\begin{array}{llll}\n",
    "(x+m)(x+n)&\\equiv x^2&+(m+n)x&+mn\\\\\n",
    "&\\equiv x^2&+bx&+c\n",
    "\\end{array}$$\n",
    "\n",
    "So $b=m+n$ and $c=mn$.\n",
    "\n",
    "In other words, to factorise we need to find two numbers that add to $b$ and multiply to $c$."
   ]
  },
  {
   "cell_type": "markdown",
   "metadata": {
    "slideshow": {
     "slide_type": "subslide"
    }
   },
   "source": [
    "### Completing the square\n",
    "\n",
    "$$\\begin{array}{llll}\n",
    "(x+p)^2+q&\\equiv x^2&+2px&+p^2+q\\\\\n",
    "&\\equiv x^2&+bx&+c\n",
    "\\end{array}$$\n",
    "\n",
    "To match up the coefficients we'll just need to choose $p$ and $q$ so that\n",
    "$$\\begin{cases}\n",
    "b=2p\\\\\n",
    "c=p^2+q\n",
    "\\end{cases}$$\n",
    "\n",
    "Even if you have another method for completing the square, it's worth understanding \"equating coefficients\" too."
   ]
  },
  {
   "cell_type": "markdown",
   "metadata": {
    "slideshow": {
     "slide_type": "subslide"
    }
   },
   "source": [
    "### Example\n",
    "\n",
    "Given\n",
    "\n",
    "$$y=x^2-8x+12$$\n",
    "\n",
    "find the factorised form, and complete the square."
   ]
  },
  {
   "cell_type": "markdown",
   "metadata": {
    "slideshow": {
     "slide_type": "fragment"
    }
   },
   "source": [
    "To factorise we need $m+n=-8$ and $mn=12$."
   ]
  },
  {
   "cell_type": "markdown",
   "metadata": {
    "slideshow": {
     "slide_type": "fragment"
    }
   },
   "source": [
    "Hence $m=-2$ and $n=-6$, so the factorised form is\n",
    "$$y=(x-2)(x-6)$$"
   ]
  },
  {
   "cell_type": "markdown",
   "metadata": {
    "slideshow": {
     "slide_type": "subslide"
    }
   },
   "source": [
    "To complete the square we want \n",
    "$$\\begin{array}{llll}\n",
    "(x+p)^2+q&\\equiv x^2&+2px&+p^2+q\\\\\n",
    "&\\equiv x^2&-8x&+12\n",
    "\\end{array}$$"
   ]
  },
  {
   "cell_type": "markdown",
   "metadata": {
    "slideshow": {
     "slide_type": "fragment"
    }
   },
   "source": [
    "Equating the coefficients of $x$\n",
    "$$2p=-8\\implies p=-4$$"
   ]
  },
  {
   "cell_type": "markdown",
   "metadata": {
    "slideshow": {
     "slide_type": "fragment"
    }
   },
   "source": [
    "And the constant\n",
    "$$12=p^2+q\\implies q=12-16=-4$$\n",
    "\n",
    "Hence\n",
    "$$y=(x-4)^2-4$$"
   ]
  },
  {
   "cell_type": "markdown",
   "metadata": {
    "slideshow": {
     "slide_type": "subslide"
    }
   },
   "source": [
    "### Example\n",
    "$$y=x^2+10x-200$$"
   ]
  },
  {
   "cell_type": "markdown",
   "metadata": {
    "slideshow": {
     "slide_type": "fragment"
    }
   },
   "source": [
    "To factorise we need $m+n=10$ and $mn=-200$. Hence $m=-10$ and $n=20$, so the factorised form is \n",
    "\n",
    "$$y=(x-10)(x+20)$$"
   ]
  },
  {
   "cell_type": "markdown",
   "metadata": {
    "slideshow": {
     "slide_type": "subslide"
    }
   },
   "source": [
    "To complete the square we want\n",
    "\n",
    "$$\\begin{array}{llll}\n",
    "(x+p)^2+q&\\equiv x^2&+2px&+p^2+q\\\\\n",
    "&\\equiv x^2&+10x&-200\n",
    "\\end{array}$$\n",
    "\n",
    "So $2p=10\\implies p=5$\n",
    "\n",
    "And $-200=p^2+q=25+q\\implies q=-225$\n",
    "\n",
    "This gives $$y=(x+5)^2-225$$"
   ]
  },
  {
   "cell_type": "markdown",
   "metadata": {
    "slideshow": {
     "slide_type": "subslide"
    }
   },
   "source": [
    "## Task 1\n",
    "Write these quadratics in factorised and completed-the-square form.\n",
    "\n",
    "* $y=x^2+12x+20$\n",
    "* $y=x^2-8x-20$\n",
    "* $y=x^2+4x-5$"
   ]
  },
  {
   "cell_type": "markdown",
   "metadata": {
    "slideshow": {
     "slide_type": "slide"
    }
   },
   "source": [
    "# Visualising quadratic functions\n",
    "\n",
    "Agree with the people around you, what you currently think of as a *graph*?"
   ]
  },
  {
   "cell_type": "code",
   "execution_count": null,
   "metadata": {
    "slideshow": {
     "slide_type": "skip"
    }
   },
   "outputs": [],
   "source": [
    "import matplotlib.pyplot as plt"
   ]
  },
  {
   "cell_type": "code",
   "execution_count": null,
   "metadata": {
    "slideshow": {
     "slide_type": "slide"
    }
   },
   "outputs": [],
   "source": [
    "def f(x):\n",
    "    return x**2-8*x-20\n",
    "f(-1000000)"
   ]
  },
  {
   "cell_type": "code",
   "execution_count": null,
   "metadata": {
    "slideshow": {
     "slide_type": "fragment"
    }
   },
   "outputs": [],
   "source": [
    "# Make a list of x-values\n",
    "xs = [-3,-2,-1,0,1,2,3,4,7.987564654,12]\n",
    "# For each x-value, y=f(x)\n",
    "ys = []\n",
    "for x in xs:\n",
    "    ys.append(f(x))\n",
    "ys"
   ]
  },
  {
   "cell_type": "code",
   "execution_count": null,
   "metadata": {
    "scrolled": false,
    "slideshow": {
     "slide_type": "slide"
    }
   },
   "outputs": [],
   "source": [
    "fig, ax = plt.subplots()\n",
    "ax.axis('off')\n",
    "ax.axhline(0, c='grey')\n",
    "ax.axvline(0, c='grey')\n",
    "ax.scatter(xs,ys);"
   ]
  },
  {
   "cell_type": "markdown",
   "metadata": {
    "slideshow": {
     "slide_type": "subslide"
    }
   },
   "source": [
    "## Task 2\n",
    "\n",
    "Go back and add a few more $x$-values. Don't forget to run that cell. Run the plotting cell. See if you can get a better view of the function."
   ]
  },
  {
   "cell_type": "markdown",
   "metadata": {
    "slideshow": {
     "slide_type": "subslide"
    }
   },
   "source": [
    "Editing the $x$-values by hand is tiring. Let's use the `numpy` package to speed things up."
   ]
  },
  {
   "cell_type": "markdown",
   "metadata": {
    "slideshow": {
     "slide_type": "subslide"
    }
   },
   "source": [
    "## Task 3\n",
    "\n",
    "`numpy` has a [`linspace` function](https://docs.scipy.org/doc/numpy/reference/generated/numpy.linspace.html). Read the documentation. What does `linspace` do?\n",
    "\n",
    "Let's see it in action."
   ]
  },
  {
   "cell_type": "code",
   "execution_count": null,
   "metadata": {
    "slideshow": {
     "slide_type": "-"
    }
   },
   "outputs": [],
   "source": [
    "import numpy"
   ]
  },
  {
   "cell_type": "code",
   "execution_count": null,
   "metadata": {
    "slideshow": {
     "slide_type": "fragment"
    }
   },
   "outputs": [],
   "source": [
    "xs = numpy.linspace(-5,15,10)\n",
    "# numpy arrays know how to apply a function to every value in one step\n",
    "ys = f(xs)"
   ]
  },
  {
   "cell_type": "code",
   "execution_count": null,
   "metadata": {
    "scrolled": false,
    "slideshow": {
     "slide_type": "subslide"
    }
   },
   "outputs": [],
   "source": [
    "fig, ax = plt.subplots()\n",
    "ax.axis('off')\n",
    "ax.axhline(0, c='grey')\n",
    "ax.axvline(0, c='grey')\n",
    "ax.scatter(xs,ys);"
   ]
  },
  {
   "cell_type": "markdown",
   "metadata": {
    "slideshow": {
     "slide_type": "subslide"
    }
   },
   "source": [
    "Trying doubling the `10` in `linspace(-5,15,10)`. What happens?"
   ]
  },
  {
   "cell_type": "markdown",
   "metadata": {
    "slideshow": {
     "slide_type": "fragment"
    }
   },
   "source": [
    "Keeping increasing the number of points. What happens?"
   ]
  },
  {
   "cell_type": "markdown",
   "metadata": {
    "slideshow": {
     "slide_type": "subslide"
    }
   },
   "source": [
    "So, what *do* we mean by the graph of $y=x^2-8x-20$?"
   ]
  },
  {
   "cell_type": "markdown",
   "metadata": {
    "slideshow": {
     "slide_type": "slide"
    }
   },
   "source": [
    "# Sketching quadratic curves"
   ]
  },
  {
   "cell_type": "markdown",
   "metadata": {
    "slideshow": {
     "slide_type": "-"
    }
   },
   "source": [
    "Run the following cell to sketch the graph of $$y=x^2-8x-20$$\n",
    "\n",
    "Find the coordinates of the coloured points."
   ]
  },
  {
   "cell_type": "code",
   "execution_count": null,
   "metadata": {
    "hide_input": false,
    "scrolled": false,
    "slideshow": {
     "slide_type": "-"
    }
   },
   "outputs": [],
   "source": [
    "xs = numpy.linspace(-5,15,100)\n",
    "ys = f(xs)\n",
    "fig, ax = plt.subplots()\n",
    "ax.axis('off')\n",
    "ax.axhline(0, c='grey')\n",
    "ax.axvline(0, c='grey')\n",
    "ax.plot(xs,ys)\n",
    "ax.scatter([-2,0,4,10],[0,-20,-36,0],color=[\"blue\",\"red\",\"green\",\"blue\"],s=50);"
   ]
  },
  {
   "cell_type": "markdown",
   "metadata": {
    "slideshow": {
     "slide_type": "subslide"
    }
   },
   "source": [
    "On the $y$-axis, $x=0$, so at the red point\n",
    "\n",
    "$$y=0^2-8\\cdot 0-20=-20$$"
   ]
  },
  {
   "cell_type": "markdown",
   "metadata": {
    "slideshow": {
     "slide_type": "fragment"
    }
   },
   "source": [
    "On the $x$-axis, $y=0$, so at the blue points\n",
    "\n",
    "$$\\begin{aligned}\n",
    "x^2-8x-20&=0\\\\\n",
    "(x+2)(x-10)&=0\\\\\n",
    "x&=-2\\text{ or }x=10\n",
    "\\end{aligned}$$"
   ]
  },
  {
   "cell_type": "markdown",
   "metadata": {
    "slideshow": {
     "slide_type": "subslide"
    }
   },
   "source": [
    "The green point is the *minimum* of this function\n",
    "\n",
    "$$\\begin{aligned}\n",
    "y&=x^2-8x-20\\\\\n",
    "&=(x-4)^2-36\n",
    "\\end{aligned}$$\n",
    "\n",
    "You might remember how to find the *vertex* from GCSE, but why does that work?"
   ]
  },
  {
   "cell_type": "markdown",
   "metadata": {
    "slideshow": {
     "slide_type": "fragment"
    }
   },
   "source": [
    "$(x-4)^2\\ge 0$ so $y\\ge -36$\n",
    "\n",
    "And $y=-36$ when $x=4$, so the minimum is at $(4,-36)$"
   ]
  },
  {
   "cell_type": "markdown",
   "metadata": {
    "slideshow": {
     "slide_type": "subslide"
    }
   },
   "source": [
    "## Task 4\n",
    "\n",
    "Find the $x$- and $y$-intercepts, and the coordinates of the minimum point of these graphs\n",
    "\n",
    "* $y=x^2+12x+20$\n",
    "* $y=x^2+4x-5$\n",
    "* $y=x^2+2x+6$\n",
    "* $y=x^2+4x+1$\n",
    "\n",
    "Use that information to *sketch* each of these graphs."
   ]
  },
  {
   "cell_type": "markdown",
   "metadata": {
    "slideshow": {
     "slide_type": "subslide"
    }
   },
   "source": [
    "## Task 5\n",
    "\n",
    "What about when the *coefficient* of $x^2$ is not $1$?\n",
    "\n",
    "[Factorising using a grid](https://undergroundmathematics.org/quadratics/quadratic-grids)\n"
   ]
  },
  {
   "cell_type": "markdown",
   "metadata": {
    "slideshow": {
     "slide_type": "subslide"
    }
   },
   "source": [
    "## Task 6\n",
    "\n",
    "[Quadratic sorter](https://undergroundmathematics.org/quadratics/quad-solving-sorter/download/problem.pdf)\n",
    "\n",
    "When you're done, export the image and submit it to the classroom."
   ]
  },
  {
   "cell_type": "markdown",
   "metadata": {
    "slideshow": {
     "slide_type": "subslide"
    }
   },
   "source": [
    "## Task 7\n",
    "\n",
    "[Name that graph](https://undergroundmathematics.org/quadratics/name-that-graph/download/problem.pdf)"
   ]
  },
  {
   "cell_type": "markdown",
   "metadata": {
    "slideshow": {
     "slide_type": "notes"
    }
   },
   "source": [
    "## Extension Task\n",
    "\n",
    "[Parabella](https://undergroundmathematics.org/quadratics/parabella/download/problem.pdf)"
   ]
  },
  {
   "cell_type": "markdown",
   "metadata": {
    "slideshow": {
     "slide_type": "subslide"
    }
   },
   "source": [
    "## Task 8\n",
    "\n",
    "[Which parabola](https://undergroundmathematics.org/quadratics/which-parabola/download/problem.pdf)"
   ]
  },
  {
   "cell_type": "markdown",
   "metadata": {
    "slideshow": {
     "slide_type": "subslide"
    }
   },
   "source": [
    "## Discussion activity\n",
    "\n",
    "[Discriminating](https://undergroundmathematics.org/quadratics/discriminating/download/problem.pdf)"
   ]
  }
 ],
 "metadata": {
  "anaconda-cloud": {},
  "celltoolbar": "Slideshow",
  "hide_input": false,
  "kernelspec": {
   "display_name": "Python 3",
   "language": "python",
   "name": "python3"
  },
  "language_info": {
   "codemirror_mode": {
    "name": "ipython",
    "version": 3
   },
   "file_extension": ".py",
   "mimetype": "text/x-python",
   "name": "python",
   "nbconvert_exporter": "python",
   "pygments_lexer": "ipython3",
   "version": "3.6.9"
  }
 },
 "nbformat": 4,
 "nbformat_minor": 1
}
