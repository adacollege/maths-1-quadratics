{
 "cells": [
  {
   "cell_type": "markdown",
   "metadata": {
    "nbpresent": {
     "id": "e3c9a26c-9e58-4eb7-a3f6-a6f2b89f6c45"
    },
    "slideshow": {
     "slide_type": "slide"
    }
   },
   "source": [
    "# Solving Linear and Quadratic Inequalities\n",
    "\n",
    "### Question\n",
    "Use `desmos.com` to find the set of values of $x$ for which\n",
    "\n",
    "$\\texttt{(a) }5\\left(x-1\\right)\\gt 3x+1$\n",
    "\n",
    "$\\texttt{(b) }x^2-4x-21\\lt 0$\n",
    "\n",
    "$\\texttt{(c) }\\textbf{both }5\\left(x-1\\right)\\gt 3x+1\\textbf{ and }x^2-4x-21\\lt 0$"
   ]
  },
  {
   "cell_type": "markdown",
   "metadata": {
    "nbpresent": {
     "id": "219bbbd5-865b-424e-9608-b8e3df6a5b52"
    },
    "slideshow": {
     "slide_type": "subslide"
    }
   },
   "source": [
    "### Things you could do on $\\texttt{desmos.com}$\n",
    "* Literally $5\\left(x-1\\right)\\gt 3x+1$\n",
    "* More usefully, $y=3(2x+1)$ and $y=5-2x$\n",
    "* What do you notice?\n",
    "* Okay, now hide that stuff and...\n",
    "* Literally $x^2-4x-21\\lt 0$\n",
    "* More usefully $y=x^2-4x-21$"
   ]
  },
  {
   "cell_type": "markdown",
   "metadata": {
    "slideshow": {
     "slide_type": "subslide"
    }
   },
   "source": [
    "### Example\n",
    "\n",
    "$\\texttt{(a) }8\\left(x-4\\right)-7\\gt x-11$\n",
    "\n",
    "$\\texttt{(b) }x^2+7x+10\\lt 0$\n",
    "\n",
    "$\\texttt{(c) }\\textbf{both }8\\left(x-4\\right)-7\\gt x-11\\textbf{ and }x^2+7x+10\\lt 0$"
   ]
  },
  {
   "cell_type": "markdown",
   "metadata": {
    "slideshow": {
     "slide_type": "subslide"
    }
   },
   "source": [
    "[When are these quadratic inequalities true together?](https://undergroundmathematics.org/quadratics/r9989)"
   ]
  },
  {
   "cell_type": "markdown",
   "metadata": {
    "slideshow": {
     "slide_type": "subslide"
    }
   },
   "source": [
    "[When is $12x^2+7x−10$ negative?](https://undergroundmathematics.org/quadratics/r5059)"
   ]
  },
  {
   "cell_type": "markdown",
   "metadata": {
    "slideshow": {
     "slide_type": "subslide"
    }
   },
   "source": [
    "[When does $x^2+(3k−7)x+(2k+6)=0$ have real roots?](https://undergroundmathematics.org/quadratics/r6828)"
   ]
  },
  {
   "cell_type": "markdown",
   "metadata": {
    "slideshow": {
     "slide_type": "-"
    }
   },
   "source": [
    "[Can we show $(b^2−2ac)x^2+4(a+c)x=8$ always has real roots?](https://undergroundmathematics.org/quadratics/r8812)"
   ]
  },
  {
   "cell_type": "markdown",
   "metadata": {
    "slideshow": {
     "slide_type": "-"
    }
   },
   "source": [
    "[When does $(p+1)x^2+4px+9=0$ have a repeated root?](https://undergroundmathematics.org/quadratics/r7455)"
   ]
  }
 ],
 "metadata": {
  "anaconda-cloud": {},
  "celltoolbar": "Slideshow",
  "hide_input": false,
  "kernelspec": {
   "display_name": "Python 3",
   "language": "python",
   "name": "python3"
  },
  "language_info": {
   "codemirror_mode": {
    "name": "ipython",
    "version": 3
   },
   "file_extension": ".py",
   "mimetype": "text/x-python",
   "name": "python",
   "nbconvert_exporter": "python",
   "pygments_lexer": "ipython3",
   "version": "3.6.8"
  },
  "nbpresent": {
   "slides": {
    "800f3095-1536-4d30-9dee-d55534469488": {
     "id": "800f3095-1536-4d30-9dee-d55534469488",
     "prev": null,
     "regions": {
      "a7edeb30-e85a-4abd-aaeb-eee5d7160b37": {
       "attrs": {
        "height": 0.8,
        "width": 0.45,
        "x": 0.5,
        "y": 0.1
       },
       "content": {
        "cell": "219bbbd5-865b-424e-9608-b8e3df6a5b52",
        "part": "whole"
       },
       "id": "a7edeb30-e85a-4abd-aaeb-eee5d7160b37"
      },
      "f3954c79-1f68-4f97-923e-432fee83cddc": {
       "attrs": {
        "height": 0.8,
        "width": 0.45,
        "x": 0.05,
        "y": 0.1
       },
       "content": {
        "cell": "e3c9a26c-9e58-4eb7-a3f6-a6f2b89f6c45",
        "part": "whole"
       },
       "id": "f3954c79-1f68-4f97-923e-432fee83cddc"
      }
     }
    }
   },
   "themes": {}
  }
 },
 "nbformat": 4,
 "nbformat_minor": 1
}
